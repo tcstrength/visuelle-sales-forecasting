{
 "cells": [
  {
   "cell_type": "code",
   "execution_count": 1,
   "metadata": {},
   "outputs": [
    {
     "name": "stdout",
     "output_type": "stream",
     "text": [
      "/Users/tccuong1404/Documents/Projects/visuelle-sales-forecasting\n"
     ]
    }
   ],
   "source": [
    "%load_ext autoreload\n",
    "%autoreload 2\n",
    "%cd ../../\n",
    "import sys\n",
    "import os\n",
    "sys.path.append(f\"{os.getcwd()}/src\")\n",
    "os.environ[\"TOKENIZERS_PARALLELISM\"] = \"False\""
   ]
  },
  {
   "cell_type": "code",
   "execution_count": 2,
   "metadata": {},
   "outputs": [
    {
     "name": "stderr",
     "output_type": "stream",
     "text": [
      "/Users/tccuong1404/Documents/Projects/visuelle-sales-forecasting/.venv/lib/python3.9/site-packages/tqdm/auto.py:21: TqdmWarning: IProgress not found. Please update jupyter and ipywidgets. See https://ipywidgets.readthedocs.io/en/stable/user_install.html\n",
      "  from .autonotebook import tqdm as notebook_tqdm\n",
      "/Users/tccuong1404/Documents/Projects/visuelle-sales-forecasting/.venv/lib/python3.9/site-packages/urllib3/__init__.py:34: NotOpenSSLWarning: urllib3 v2 only supports OpenSSL 1.1.1+, currently the 'ssl' module is compiled with 'LibreSSL 2.8.3'. See: https://github.com/urllib3/urllib3/issues/3020\n",
      "  warnings.warn(\n"
     ]
    }
   ],
   "source": [
    "import torch\n",
    "import pytorch_lightning as L\n",
    "from utils import misc_utils\n",
    "from models import VisuelleDataset\n",
    "from models import VisForecastNet"
   ]
  },
  {
   "cell_type": "code",
   "execution_count": 3,
   "metadata": {},
   "outputs": [
    {
     "name": "stderr",
     "output_type": "stream",
     "text": [
      "\u001b[32m2024-01-22 17:05:45.984\u001b[0m | \u001b[1mINFO    \u001b[0m | \u001b[36mmodels.visuelle_dataset\u001b[0m:\u001b[36minit_dataset\u001b[0m:\u001b[36m34\u001b[0m - \u001b[1m====== DATASET ======\u001b[0m\n",
      "\u001b[32m2024-01-22 17:05:45.985\u001b[0m | \u001b[1mINFO    \u001b[0m | \u001b[36mmodels.visuelle_dataset\u001b[0m:\u001b[36minit_dataset\u001b[0m:\u001b[36m35\u001b[0m - \u001b[1mTrain path: dataset/train.csv\u001b[0m\n",
      "\u001b[32m2024-01-22 17:05:45.985\u001b[0m | \u001b[1mINFO    \u001b[0m | \u001b[36mmodels.visuelle_dataset\u001b[0m:\u001b[36minit_dataset\u001b[0m:\u001b[36m36\u001b[0m - \u001b[1mTest path: dataset/test.csv\u001b[0m\n",
      "\u001b[32m2024-01-22 17:05:45.986\u001b[0m | \u001b[1mINFO    \u001b[0m | \u001b[36mmodels.visuelle_dataset\u001b[0m:\u001b[36minit_dataset\u001b[0m:\u001b[36m37\u001b[0m - \u001b[1mCategory path: dataset/category_labels.pt\u001b[0m\n",
      "\u001b[32m2024-01-22 17:05:45.986\u001b[0m | \u001b[1mINFO    \u001b[0m | \u001b[36mmodels.visuelle_dataset\u001b[0m:\u001b[36minit_dataset\u001b[0m:\u001b[36m38\u001b[0m - \u001b[1mColor path: dataset/color_labels.pt\u001b[0m\n",
      "\u001b[32m2024-01-22 17:05:45.986\u001b[0m | \u001b[1mINFO    \u001b[0m | \u001b[36mmodels.visuelle_dataset\u001b[0m:\u001b[36minit_dataset\u001b[0m:\u001b[36m39\u001b[0m - \u001b[1mFabric path: dataset/fabric_labels.pt\u001b[0m\n"
     ]
    }
   ],
   "source": []
  },
  {
   "cell_type": "code",
   "execution_count": null,
   "metadata": {},
   "outputs": [],
   "source": []
  },
  {
   "cell_type": "markdown",
   "metadata": {},
   "source": [
    "### Load ResNet50 and remove output layers"
   ]
  },
  {
   "cell_type": "code",
   "execution_count": 5,
   "metadata": {},
   "outputs": [
    {
     "name": "stderr",
     "output_type": "stream",
     "text": [
      "/Users/tccuong1404/Documents/Projects/visuelle-sales-forecasting/.venv/lib/python3.9/site-packages/torchvision/models/_utils.py:208: UserWarning: The parameter 'pretrained' is deprecated since 0.13 and may be removed in the future, please use 'weights' instead.\n",
      "  warnings.warn(\n",
      "/Users/tccuong1404/Documents/Projects/visuelle-sales-forecasting/.venv/lib/python3.9/site-packages/torchvision/models/_utils.py:223: UserWarning: Arguments other than a weight enum or `None` for 'weights' are deprecated since 0.13 and may be removed in the future. The current behavior is equivalent to passing `weights=ResNet50_Weights.IMAGENET1K_V1`. You can also use `weights=ResNet50_Weights.DEFAULT` to get the most up-to-date weights.\n",
      "  warnings.warn(msg)\n",
      "GPU available: True (mps), used: True\n",
      "TPU available: False, using: 0 TPU cores\n",
      "IPU available: False, using: 0 IPUs\n",
      "HPU available: False, using: 0 HPUs\n",
      "\n",
      "  | Name          | Type         | Params\n",
      "-----------------------------------------------\n",
      "0 | image_encoder | ImageEncoder | 23.6 M\n",
      "1 | forecast_fc   | Sequential   | 780   \n",
      "-----------------------------------------------\n",
      "66.3 K    Trainable params\n",
      "23.5 M    Non-trainable params\n",
      "23.6 M    Total params\n",
      "94.298    Total estimated model params size (MB)\n"
     ]
    },
    {
     "name": "stdout",
     "output_type": "stream",
     "text": [
      "Epoch 0:   0%|          | 0/2 [00:00<?, ?it/s] "
     ]
    },
    {
     "ename": "",
     "evalue": "",
     "output_type": "error",
     "traceback": [
      "\u001b[1;31mThe Kernel crashed while executing code in the the current cell or a previous cell. Please review the code in the cell(s) to identify a possible cause of the failure. Click <a href='https://aka.ms/vscodeJupyterKernelCrash'>here</a> for more info. View Jupyter <a href='command:jupyter.viewOutput'>log</a> for further details."
     ]
    }
   ],
   "source": []
  }
 ],
 "metadata": {
  "kernelspec": {
   "display_name": ".venv",
   "language": "python",
   "name": "python3"
  },
  "language_info": {
   "codemirror_mode": {
    "name": "ipython",
    "version": 3
   },
   "file_extension": ".py",
   "mimetype": "text/x-python",
   "name": "python",
   "nbconvert_exporter": "python",
   "pygments_lexer": "ipython3",
   "version": "3.9.6"
  }
 },
 "nbformat": 4,
 "nbformat_minor": 2
}
