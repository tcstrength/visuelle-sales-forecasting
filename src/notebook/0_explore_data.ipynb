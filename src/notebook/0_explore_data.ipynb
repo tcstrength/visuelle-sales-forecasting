{
 "cells": [
  {
   "cell_type": "code",
   "execution_count": 1,
   "metadata": {},
   "outputs": [
    {
     "name": "stdout",
     "output_type": "stream",
     "text": [
      "/Users/tccuong1404/Documents/Projects/visuelle-sales-forecasting\n"
     ]
    },
    {
     "name": "stderr",
     "output_type": "stream",
     "text": [
      "/Users/tccuong1404/Documents/Projects/visuelle-sales-forecasting/.venv/lib/python3.9/site-packages/IPython/core/magics/osm.py:417: UserWarning: using dhist requires you to install the `pickleshare` library.\n",
      "  self.shell.db['dhist'] = compress_dhist(dhist)[-100:]\n"
     ]
    }
   ],
   "source": [
    "%load_ext autoreload\n",
    "%autoreload 2\n",
    "%cd ../../\n",
    "\n",
    "import sys\n",
    "import os\n",
    "sys.path.append(f\"{os.getcwd()}/src\")"
   ]
  },
  {
   "cell_type": "code",
   "execution_count": 150,
   "metadata": {},
   "outputs": [],
   "source": [
    "import pandas as pd\n",
    "import seaborn as sns\n",
    "from datetime import datetime\n",
    "from datetime import timedelta\n",
    "from matplotlib import pyplot as plt\n",
    "from models import VisuelleDataset"
   ]
  },
  {
   "cell_type": "code",
   "execution_count": 158,
   "metadata": {},
   "outputs": [
    {
     "name": "stderr",
     "output_type": "stream",
     "text": [
      "\u001b[32m2024-02-01 21:46:31.165\u001b[0m | \u001b[1mINFO    \u001b[0m | \u001b[36mmodels.visuelle_dataset\u001b[0m:\u001b[36m__init__\u001b[0m:\u001b[36m31\u001b[0m - \u001b[1m====== DATASET ======\u001b[0m\n",
      "\u001b[32m2024-02-01 21:46:31.165\u001b[0m | \u001b[1mINFO    \u001b[0m | \u001b[36mmodels.visuelle_dataset\u001b[0m:\u001b[36m__init__\u001b[0m:\u001b[36m32\u001b[0m - \u001b[1mTrain path: dataset/train.csv\u001b[0m\n",
      "\u001b[32m2024-02-01 21:46:31.166\u001b[0m | \u001b[1mINFO    \u001b[0m | \u001b[36mmodels.visuelle_dataset\u001b[0m:\u001b[36m__init__\u001b[0m:\u001b[36m33\u001b[0m - \u001b[1mTest path: dataset/test.csv\u001b[0m\n",
      "\u001b[32m2024-02-01 21:46:31.166\u001b[0m | \u001b[1mINFO    \u001b[0m | \u001b[36mmodels.visuelle_dataset\u001b[0m:\u001b[36m__init__\u001b[0m:\u001b[36m34\u001b[0m - \u001b[1mCategory path: dataset/category_labels.pt\u001b[0m\n",
      "\u001b[32m2024-02-01 21:46:31.166\u001b[0m | \u001b[1mINFO    \u001b[0m | \u001b[36mmodels.visuelle_dataset\u001b[0m:\u001b[36m__init__\u001b[0m:\u001b[36m35\u001b[0m - \u001b[1mColor path: dataset/color_labels.pt\u001b[0m\n",
      "\u001b[32m2024-02-01 21:46:31.166\u001b[0m | \u001b[1mINFO    \u001b[0m | \u001b[36mmodels.visuelle_dataset\u001b[0m:\u001b[36m__init__\u001b[0m:\u001b[36m36\u001b[0m - \u001b[1mFabric path: dataset/fabric_labels.pt\u001b[0m\n"
     ]
    }
   ],
   "source": [
    "visuelle = VisuelleDataset(data_dir=\"dataset/\")"
   ]
  },
  {
   "cell_type": "code",
   "execution_count": 142,
   "metadata": {},
   "outputs": [],
   "source": [
    "def transform_to_daily_sales(df: pd.DataFrame, attr: str, num_weeks: int=12):\n",
    "    min_date = df[\"release_date\"].min()\n",
    "    max_date = df[\"release_date\"].max() + timedelta(days=7 * num_weeks)\n",
    "    attr_ls = list(df[attr].unique())\n",
    "    print(min_date, max_date)\n",
    "    num_days = int((max_date - min_date).days)\n",
    "    df_dates = pd.DataFrame(range(num_days), columns=[\"days\"])\n",
    "    df_dates[attr] = [attr_ls] * len(df_dates)\n",
    "    df_dates[\"anchor\"] = min_date\n",
    "    df_dates[\"delta\"] = pd.to_timedelta(df_dates[\"days\"], unit=\"days\")\n",
    "    df_dates[\"date\"] = df_dates[\"anchor\"] + df_dates[\"delta\"]\n",
    "    df_dates = df_dates.drop(columns=[\"anchor\", \"delta\", \"days\"])\n",
    "    df_dates = df_dates.explode(column=attr)\n",
    "\n",
    "    tmp = pd.DataFrame(range(7), columns=[\"day_of_week\"])\n",
    "    df = pd.merge(df, tmp, how=\"cross\")\n",
    "    df = df.melt(id_vars=[attr, \"release_date\", \"day_of_week\"], value_vars=df.columns[:12])\n",
    "    df[\"delta\"] = (df[\"variable\"].astype(int) * 7) + df[\"day_of_week\"]\n",
    "    df[\"delta\"] = pd.to_timedelta(df[\"delta\"], unit=\"days\")\n",
    "    df[\"date\"] = df[\"release_date\"] + df[\"delta\"]\n",
    "    df[\"value\"] = df[\"value\"] / 7\n",
    "    df = df.rename(columns={\n",
    "        \"value\": \"sales\"\n",
    "    })\n",
    "    df = df.drop(columns=[\"variable\", \"release_date\", \"delta\", \"day_of_week\"])\n",
    "    df = pd.merge(df_dates, df, on=[attr, \"date\"], how=\"left\")\n",
    "    df = df.fillna({\"sales\": 0})\n",
    "    df = df.groupby(by=[attr, \"date\"]).agg(\n",
    "        sales=pd.NamedAgg(column=\"sales\", aggfunc=\"sum\")\n",
    "    ).reset_index()\n",
    "    return df, df_dates"
   ]
  },
  {
   "cell_type": "markdown",
   "metadata": {},
   "source": [
    "### Test the sales"
   ]
  },
  {
   "cell_type": "code",
   "execution_count": 182,
   "metadata": {},
   "outputs": [],
   "source": [
    "df_pivot = df.pivot(index=\"date\", columns=[\"attr\"], values=[\"sales\"])\n",
    "df_pivot.columns = df_pivot.columns.droplevel(0)"
   ]
  },
  {
   "cell_type": "code",
   "execution_count": 193,
   "metadata": {},
   "outputs": [
    {
     "data": {
      "text/plain": [
       "date\n",
       "2016-12-01    0.000805\n",
       "2016-12-02    0.000805\n",
       "2016-12-03    0.001073\n",
       "2016-12-04    0.001073\n",
       "2016-12-05    0.017304\n",
       "                ...   \n",
       "2020-03-07    0.000805\n",
       "2020-03-08    0.000805\n",
       "2020-03-09    0.000805\n",
       "2020-03-10    0.000805\n",
       "2020-03-11    0.000805\n",
       "Name: brown, Length: 1197, dtype: float64"
      ]
     },
     "execution_count": 193,
     "metadata": {},
     "output_type": "execute_result"
    }
   ],
   "source": [
    "df_pivot[\"brown\"]"
   ]
  }
 ],
 "metadata": {
  "kernelspec": {
   "display_name": ".venv",
   "language": "python",
   "name": "python3"
  },
  "language_info": {
   "codemirror_mode": {
    "name": "ipython",
    "version": 3
   },
   "file_extension": ".py",
   "mimetype": "text/x-python",
   "name": "python",
   "nbconvert_exporter": "python",
   "pygments_lexer": "ipython3",
   "version": "3.9.6"
  }
 },
 "nbformat": 4,
 "nbformat_minor": 2
}
